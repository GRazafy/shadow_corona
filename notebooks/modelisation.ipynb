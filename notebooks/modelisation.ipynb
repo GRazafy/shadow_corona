{
 "cells": [
  {
   "cell_type": "code",
   "execution_count": 5,
   "metadata": {},
   "outputs": [],
   "source": [
    "import datetime\n",
    "import os\n",
    "import yaml\n",
    "\n",
    "import numpy as np\n",
    "import pandas as pd"
   ]
  },
  {
   "cell_type": "code",
   "execution_count": 8,
   "metadata": {},
   "outputs": [],
   "source": [
    "# Lecture du fichier d'environnement\n",
    "ENV_FILE = '../env.yaml'\n",
    "with open(ENV_FILE) as f:\n",
    "    params = yaml.load(f) #, Loader=yaml.FullLoader)\n",
    "\n",
    "# Initialisation des chemins vers les fichiers\n",
    "ROOT_DIR = os.path.dirname(os.path.abspath(ENV_FILE))\n",
    "DATA_FILE = os.path.join(ROOT_DIR,\n",
    "                         params['directories']['processed'],\n",
    "                         params['files']['all_data'])\n",
    "\n",
    "# Lecture du fichier de données\n",
    "epidemie_df = (pd.read_csv(DATA_FILE, parse_dates=['Last Update'])\n",
    "               .assign(day=lambda _df: _df['Last Update'].dt.date)\n",
    "               .drop_duplicates(subset=['Country/Region', 'Province/State', 'day'])\n",
    "               [lambda df: df['day'] <= datetime.date(2020, 3, 12)]\n",
    "              )"
   ]
  },
  {
   "cell_type": "code",
   "execution_count": 9,
   "metadata": {},
   "outputs": [
    {
     "data": {
      "text/html": [
       "<div>\n",
       "<style scoped>\n",
       "    .dataframe tbody tr th:only-of-type {\n",
       "        vertical-align: middle;\n",
       "    }\n",
       "\n",
       "    .dataframe tbody tr th {\n",
       "        vertical-align: top;\n",
       "    }\n",
       "\n",
       "    .dataframe thead th {\n",
       "        text-align: right;\n",
       "    }\n",
       "</style>\n",
       "<table border=\"1\" class=\"dataframe\">\n",
       "  <thead>\n",
       "    <tr style=\"text-align: right;\">\n",
       "      <th></th>\n",
       "      <th>Province/State</th>\n",
       "      <th>Country/Region</th>\n",
       "      <th>Last Update</th>\n",
       "      <th>Confirmed</th>\n",
       "      <th>Deaths</th>\n",
       "      <th>Recovered</th>\n",
       "      <th>Latitude</th>\n",
       "      <th>Longitude</th>\n",
       "      <th>source</th>\n",
       "      <th>day</th>\n",
       "    </tr>\n",
       "  </thead>\n",
       "  <tbody>\n",
       "    <tr>\n",
       "      <th>0</th>\n",
       "      <td>Anhui</td>\n",
       "      <td>Mainland China</td>\n",
       "      <td>2020-01-22 17:00:00</td>\n",
       "      <td>1.0</td>\n",
       "      <td>NaN</td>\n",
       "      <td>NaN</td>\n",
       "      <td>31.8257</td>\n",
       "      <td>117.2264</td>\n",
       "      <td>01-22-2020.csv</td>\n",
       "      <td>2020-01-22</td>\n",
       "    </tr>\n",
       "    <tr>\n",
       "      <th>1</th>\n",
       "      <td>Beijing</td>\n",
       "      <td>Mainland China</td>\n",
       "      <td>2020-01-22 17:00:00</td>\n",
       "      <td>14.0</td>\n",
       "      <td>NaN</td>\n",
       "      <td>NaN</td>\n",
       "      <td>40.1824</td>\n",
       "      <td>116.4142</td>\n",
       "      <td>01-22-2020.csv</td>\n",
       "      <td>2020-01-22</td>\n",
       "    </tr>\n",
       "    <tr>\n",
       "      <th>2</th>\n",
       "      <td>Chongqing</td>\n",
       "      <td>Mainland China</td>\n",
       "      <td>2020-01-22 17:00:00</td>\n",
       "      <td>6.0</td>\n",
       "      <td>NaN</td>\n",
       "      <td>NaN</td>\n",
       "      <td>30.0572</td>\n",
       "      <td>107.8740</td>\n",
       "      <td>01-22-2020.csv</td>\n",
       "      <td>2020-01-22</td>\n",
       "    </tr>\n",
       "    <tr>\n",
       "      <th>3</th>\n",
       "      <td>Fujian</td>\n",
       "      <td>Mainland China</td>\n",
       "      <td>2020-01-22 17:00:00</td>\n",
       "      <td>1.0</td>\n",
       "      <td>NaN</td>\n",
       "      <td>NaN</td>\n",
       "      <td>26.0789</td>\n",
       "      <td>117.9874</td>\n",
       "      <td>01-22-2020.csv</td>\n",
       "      <td>2020-01-22</td>\n",
       "    </tr>\n",
       "    <tr>\n",
       "      <th>4</th>\n",
       "      <td>Gansu</td>\n",
       "      <td>Mainland China</td>\n",
       "      <td>2020-01-22 17:00:00</td>\n",
       "      <td>NaN</td>\n",
       "      <td>NaN</td>\n",
       "      <td>NaN</td>\n",
       "      <td>36.0611</td>\n",
       "      <td>103.8343</td>\n",
       "      <td>01-22-2020.csv</td>\n",
       "      <td>2020-01-22</td>\n",
       "    </tr>\n",
       "  </tbody>\n",
       "</table>\n",
       "</div>"
      ],
      "text/plain": [
       "  Province/State  Country/Region         Last Update  Confirmed  Deaths  \\\n",
       "0          Anhui  Mainland China 2020-01-22 17:00:00        1.0     NaN   \n",
       "1        Beijing  Mainland China 2020-01-22 17:00:00       14.0     NaN   \n",
       "2      Chongqing  Mainland China 2020-01-22 17:00:00        6.0     NaN   \n",
       "3         Fujian  Mainland China 2020-01-22 17:00:00        1.0     NaN   \n",
       "4          Gansu  Mainland China 2020-01-22 17:00:00        NaN     NaN   \n",
       "\n",
       "   Recovered  Latitude  Longitude          source         day  \n",
       "0        NaN   31.8257   117.2264  01-22-2020.csv  2020-01-22  \n",
       "1        NaN   40.1824   116.4142  01-22-2020.csv  2020-01-22  \n",
       "2        NaN   30.0572   107.8740  01-22-2020.csv  2020-01-22  \n",
       "3        NaN   26.0789   117.9874  01-22-2020.csv  2020-01-22  \n",
       "4        NaN   36.0611   103.8343  01-22-2020.csv  2020-01-22  "
      ]
     },
     "execution_count": 9,
     "metadata": {},
     "output_type": "execute_result"
    }
   ],
   "source": [
    "epidemie_df.head()"
   ]
  },
  {
   "cell_type": "code",
   "execution_count": 11,
   "metadata": {},
   "outputs": [
    {
     "data": {
      "text/html": [
       "<div>\n",
       "<style scoped>\n",
       "    .dataframe tbody tr th:only-of-type {\n",
       "        vertical-align: middle;\n",
       "    }\n",
       "\n",
       "    .dataframe tbody tr th {\n",
       "        vertical-align: top;\n",
       "    }\n",
       "\n",
       "    .dataframe thead th {\n",
       "        text-align: right;\n",
       "    }\n",
       "</style>\n",
       "<table border=\"1\" class=\"dataframe\">\n",
       "  <thead>\n",
       "    <tr style=\"text-align: right;\">\n",
       "      <th></th>\n",
       "      <th>Country/Region</th>\n",
       "      <th>day</th>\n",
       "      <th>Confirmed</th>\n",
       "      <th>Deaths</th>\n",
       "      <th>Recovered</th>\n",
       "    </tr>\n",
       "  </thead>\n",
       "  <tbody>\n",
       "    <tr>\n",
       "      <th>23</th>\n",
       "      <td>France</td>\n",
       "      <td>2020-03-07</td>\n",
       "      <td>949.0</td>\n",
       "      <td>11.0</td>\n",
       "      <td>12.0</td>\n",
       "    </tr>\n",
       "    <tr>\n",
       "      <th>24</th>\n",
       "      <td>France</td>\n",
       "      <td>2020-03-08</td>\n",
       "      <td>1126.0</td>\n",
       "      <td>19.0</td>\n",
       "      <td>12.0</td>\n",
       "    </tr>\n",
       "    <tr>\n",
       "      <th>25</th>\n",
       "      <td>France</td>\n",
       "      <td>2020-03-09</td>\n",
       "      <td>1209.0</td>\n",
       "      <td>19.0</td>\n",
       "      <td>12.0</td>\n",
       "    </tr>\n",
       "    <tr>\n",
       "      <th>26</th>\n",
       "      <td>France</td>\n",
       "      <td>2020-03-10</td>\n",
       "      <td>1784.0</td>\n",
       "      <td>33.0</td>\n",
       "      <td>12.0</td>\n",
       "    </tr>\n",
       "    <tr>\n",
       "      <th>27</th>\n",
       "      <td>France</td>\n",
       "      <td>2020-03-11</td>\n",
       "      <td>2287.0</td>\n",
       "      <td>48.0</td>\n",
       "      <td>12.0</td>\n",
       "    </tr>\n",
       "  </tbody>\n",
       "</table>\n",
       "</div>"
      ],
      "text/plain": [
       "   Country/Region         day  Confirmed  Deaths  Recovered\n",
       "23         France  2020-03-07      949.0    11.0       12.0\n",
       "24         France  2020-03-08     1126.0    19.0       12.0\n",
       "25         France  2020-03-09     1209.0    19.0       12.0\n",
       "26         France  2020-03-10     1784.0    33.0       12.0\n",
       "27         France  2020-03-11     2287.0    48.0       12.0"
      ]
     },
     "execution_count": 11,
     "metadata": {},
     "output_type": "execute_result"
    }
   ],
   "source": [
    "france_df = (epidemie_df[epidemie_df['Country/Region'] == 'France']\n",
    "             .groupby(['Country/Region', 'day'])\n",
    "             .agg({'Confirmed': 'sum', 'Deaths': 'sum', 'Recovered': 'sum'})\n",
    "             .reset_index()\n",
    "            )\n",
    "france_df.tail()"
   ]
  },
  {
   "cell_type": "code",
   "execution_count": 12,
   "metadata": {},
   "outputs": [
    {
     "data": {
      "text/plain": [
       "0       NaN\n",
       "1       1.0\n",
       "2       0.0\n",
       "3       0.0\n",
       "4       1.0\n",
       "5       1.0\n",
       "6       0.0\n",
       "7       0.0\n",
       "8       1.0\n",
       "9       5.0\n",
       "10      0.0\n",
       "11      1.0\n",
       "12      2.0\n",
       "13      4.0\n",
       "14     20.0\n",
       "15     19.0\n",
       "16     43.0\n",
       "17     30.0\n",
       "18     61.0\n",
       "19     13.0\n",
       "20     81.0\n",
       "21     92.0\n",
       "22    276.0\n",
       "23    296.0\n",
       "24    177.0\n",
       "25     83.0\n",
       "26    575.0\n",
       "27    503.0\n",
       "Name: Confirmed, dtype: float64"
      ]
     },
     "execution_count": 12,
     "metadata": {},
     "output_type": "execute_result"
    }
   ],
   "source": [
    "france_df['Confirmed'].diff()"
   ]
  },
  {
   "cell_type": "code",
   "execution_count": 20,
   "metadata": {},
   "outputs": [],
   "source": [
    "def get_country(self, country):\n",
    "    return (epidemie_df[epidemie_df['Country/Region'] == country]\n",
    "            .groupby(['Country/Region', 'day'])\n",
    "            .agg({'Confirmed': 'sum', 'Deaths': 'sum', 'Recovered': 'sum'})\n",
    "            .reset_index()\n",
    "           )\n",
    "\n",
    "# Monkey Patch pd.DataFrame\n",
    "pd.DataFrame.get_country = get_country"
   ]
  },
  {
   "cell_type": "code",
   "execution_count": 19,
   "metadata": {},
   "outputs": [
    {
     "data": {
      "text/html": [
       "<div>\n",
       "<style scoped>\n",
       "    .dataframe tbody tr th:only-of-type {\n",
       "        vertical-align: middle;\n",
       "    }\n",
       "\n",
       "    .dataframe tbody tr th {\n",
       "        vertical-align: top;\n",
       "    }\n",
       "\n",
       "    .dataframe thead th {\n",
       "        text-align: right;\n",
       "    }\n",
       "</style>\n",
       "<table border=\"1\" class=\"dataframe\">\n",
       "  <thead>\n",
       "    <tr style=\"text-align: right;\">\n",
       "      <th></th>\n",
       "      <th>Country/Region</th>\n",
       "      <th>day</th>\n",
       "      <th>Confirmed</th>\n",
       "      <th>Deaths</th>\n",
       "      <th>Recovered</th>\n",
       "    </tr>\n",
       "  </thead>\n",
       "  <tbody>\n",
       "    <tr>\n",
       "      <th>0</th>\n",
       "      <td>South Korea</td>\n",
       "      <td>2020-01-22</td>\n",
       "      <td>1.0</td>\n",
       "      <td>0.0</td>\n",
       "      <td>0.0</td>\n",
       "    </tr>\n",
       "    <tr>\n",
       "      <th>1</th>\n",
       "      <td>South Korea</td>\n",
       "      <td>2020-01-23</td>\n",
       "      <td>1.0</td>\n",
       "      <td>0.0</td>\n",
       "      <td>0.0</td>\n",
       "    </tr>\n",
       "    <tr>\n",
       "      <th>2</th>\n",
       "      <td>South Korea</td>\n",
       "      <td>2020-01-24</td>\n",
       "      <td>2.0</td>\n",
       "      <td>0.0</td>\n",
       "      <td>0.0</td>\n",
       "    </tr>\n",
       "    <tr>\n",
       "      <th>3</th>\n",
       "      <td>South Korea</td>\n",
       "      <td>2020-01-25</td>\n",
       "      <td>2.0</td>\n",
       "      <td>0.0</td>\n",
       "      <td>0.0</td>\n",
       "    </tr>\n",
       "    <tr>\n",
       "      <th>4</th>\n",
       "      <td>South Korea</td>\n",
       "      <td>2020-01-26</td>\n",
       "      <td>3.0</td>\n",
       "      <td>0.0</td>\n",
       "      <td>0.0</td>\n",
       "    </tr>\n",
       "  </tbody>\n",
       "</table>\n",
       "</div>"
      ],
      "text/plain": [
       "  Country/Region         day  Confirmed  Deaths  Recovered\n",
       "0    South Korea  2020-01-22        1.0     0.0        0.0\n",
       "1    South Korea  2020-01-23        1.0     0.0        0.0\n",
       "2    South Korea  2020-01-24        2.0     0.0        0.0\n",
       "3    South Korea  2020-01-25        2.0     0.0        0.0\n",
       "4    South Korea  2020-01-26        3.0     0.0        0.0"
      ]
     },
     "execution_count": 19,
     "metadata": {},
     "output_type": "execute_result"
    }
   ],
   "source": [
    "get_country(epidemie_df, \"South Korea\").head()"
   ]
  },
  {
   "cell_type": "code",
   "execution_count": 21,
   "metadata": {},
   "outputs": [
    {
     "data": {
      "text/html": [
       "<div>\n",
       "<style scoped>\n",
       "    .dataframe tbody tr th:only-of-type {\n",
       "        vertical-align: middle;\n",
       "    }\n",
       "\n",
       "    .dataframe tbody tr th {\n",
       "        vertical-align: top;\n",
       "    }\n",
       "\n",
       "    .dataframe thead th {\n",
       "        text-align: right;\n",
       "    }\n",
       "</style>\n",
       "<table border=\"1\" class=\"dataframe\">\n",
       "  <thead>\n",
       "    <tr style=\"text-align: right;\">\n",
       "      <th></th>\n",
       "      <th>Country/Region</th>\n",
       "      <th>day</th>\n",
       "      <th>Confirmed</th>\n",
       "      <th>Deaths</th>\n",
       "      <th>Recovered</th>\n",
       "    </tr>\n",
       "  </thead>\n",
       "  <tbody>\n",
       "    <tr>\n",
       "      <th>0</th>\n",
       "      <td>South Korea</td>\n",
       "      <td>2020-01-22</td>\n",
       "      <td>1.0</td>\n",
       "      <td>0.0</td>\n",
       "      <td>0.0</td>\n",
       "    </tr>\n",
       "    <tr>\n",
       "      <th>1</th>\n",
       "      <td>South Korea</td>\n",
       "      <td>2020-01-23</td>\n",
       "      <td>1.0</td>\n",
       "      <td>0.0</td>\n",
       "      <td>0.0</td>\n",
       "    </tr>\n",
       "    <tr>\n",
       "      <th>2</th>\n",
       "      <td>South Korea</td>\n",
       "      <td>2020-01-24</td>\n",
       "      <td>2.0</td>\n",
       "      <td>0.0</td>\n",
       "      <td>0.0</td>\n",
       "    </tr>\n",
       "    <tr>\n",
       "      <th>3</th>\n",
       "      <td>South Korea</td>\n",
       "      <td>2020-01-25</td>\n",
       "      <td>2.0</td>\n",
       "      <td>0.0</td>\n",
       "      <td>0.0</td>\n",
       "    </tr>\n",
       "    <tr>\n",
       "      <th>4</th>\n",
       "      <td>South Korea</td>\n",
       "      <td>2020-01-26</td>\n",
       "      <td>3.0</td>\n",
       "      <td>0.0</td>\n",
       "      <td>0.0</td>\n",
       "    </tr>\n",
       "  </tbody>\n",
       "</table>\n",
       "</div>"
      ],
      "text/plain": [
       "  Country/Region         day  Confirmed  Deaths  Recovered\n",
       "0    South Korea  2020-01-22        1.0     0.0        0.0\n",
       "1    South Korea  2020-01-23        1.0     0.0        0.0\n",
       "2    South Korea  2020-01-24        2.0     0.0        0.0\n",
       "3    South Korea  2020-01-25        2.0     0.0        0.0\n",
       "4    South Korea  2020-01-26        3.0     0.0        0.0"
      ]
     },
     "execution_count": 21,
     "metadata": {},
     "output_type": "execute_result"
    }
   ],
   "source": [
    "epidemie_df.get_country(\"South Korea\").head()"
   ]
  },
  {
   "cell_type": "code",
   "execution_count": 23,
   "metadata": {},
   "outputs": [
    {
     "data": {
      "text/html": [
       "<div>\n",
       "<style scoped>\n",
       "    .dataframe tbody tr th:only-of-type {\n",
       "        vertical-align: middle;\n",
       "    }\n",
       "\n",
       "    .dataframe tbody tr th {\n",
       "        vertical-align: top;\n",
       "    }\n",
       "\n",
       "    .dataframe thead th {\n",
       "        text-align: right;\n",
       "    }\n",
       "</style>\n",
       "<table border=\"1\" class=\"dataframe\">\n",
       "  <thead>\n",
       "    <tr style=\"text-align: right;\">\n",
       "      <th></th>\n",
       "      <th>Country/Region</th>\n",
       "      <th>day</th>\n",
       "      <th>Confirmed</th>\n",
       "      <th>Deaths</th>\n",
       "      <th>Recovered</th>\n",
       "    </tr>\n",
       "  </thead>\n",
       "  <tbody>\n",
       "    <tr>\n",
       "      <th>0</th>\n",
       "      <td>Italy</td>\n",
       "      <td>2020-01-31</td>\n",
       "      <td>2.0</td>\n",
       "      <td>0.0</td>\n",
       "      <td>0.0</td>\n",
       "    </tr>\n",
       "    <tr>\n",
       "      <th>1</th>\n",
       "      <td>Italy</td>\n",
       "      <td>2020-02-07</td>\n",
       "      <td>3.0</td>\n",
       "      <td>0.0</td>\n",
       "      <td>0.0</td>\n",
       "    </tr>\n",
       "    <tr>\n",
       "      <th>2</th>\n",
       "      <td>Italy</td>\n",
       "      <td>2020-02-21</td>\n",
       "      <td>20.0</td>\n",
       "      <td>1.0</td>\n",
       "      <td>0.0</td>\n",
       "    </tr>\n",
       "    <tr>\n",
       "      <th>3</th>\n",
       "      <td>Italy</td>\n",
       "      <td>2020-02-22</td>\n",
       "      <td>62.0</td>\n",
       "      <td>2.0</td>\n",
       "      <td>1.0</td>\n",
       "    </tr>\n",
       "    <tr>\n",
       "      <th>4</th>\n",
       "      <td>Italy</td>\n",
       "      <td>2020-02-23</td>\n",
       "      <td>155.0</td>\n",
       "      <td>3.0</td>\n",
       "      <td>2.0</td>\n",
       "    </tr>\n",
       "  </tbody>\n",
       "</table>\n",
       "</div>"
      ],
      "text/plain": [
       "  Country/Region         day  Confirmed  Deaths  Recovered\n",
       "0          Italy  2020-01-31        2.0     0.0        0.0\n",
       "1          Italy  2020-02-07        3.0     0.0        0.0\n",
       "2          Italy  2020-02-21       20.0     1.0        0.0\n",
       "3          Italy  2020-02-22       62.0     2.0        1.0\n",
       "4          Italy  2020-02-23      155.0     3.0        2.0"
      ]
     },
     "execution_count": 23,
     "metadata": {},
     "output_type": "execute_result"
    }
   ],
   "source": [
    "italy_df = epidemie_df.get_country('Italy')\n",
    "italy_df.head()"
   ]
  },
  {
   "cell_type": "code",
   "execution_count": 13,
   "metadata": {},
   "outputs": [
    {
     "data": {
      "text/html": [
       "<div>\n",
       "<style scoped>\n",
       "    .dataframe tbody tr th:only-of-type {\n",
       "        vertical-align: middle;\n",
       "    }\n",
       "\n",
       "    .dataframe tbody tr th {\n",
       "        vertical-align: top;\n",
       "    }\n",
       "\n",
       "    .dataframe thead th {\n",
       "        text-align: right;\n",
       "    }\n",
       "</style>\n",
       "<table border=\"1\" class=\"dataframe\">\n",
       "  <thead>\n",
       "    <tr style=\"text-align: right;\">\n",
       "      <th></th>\n",
       "      <th>Country/Region</th>\n",
       "      <th>day</th>\n",
       "      <th>Confirmed</th>\n",
       "      <th>Deaths</th>\n",
       "      <th>Recovered</th>\n",
       "    </tr>\n",
       "  </thead>\n",
       "  <tbody>\n",
       "    <tr>\n",
       "      <th>38</th>\n",
       "      <td>South Korea</td>\n",
       "      <td>2020-03-05</td>\n",
       "      <td>6088.0</td>\n",
       "      <td>35.0</td>\n",
       "      <td>41.0</td>\n",
       "    </tr>\n",
       "    <tr>\n",
       "      <th>39</th>\n",
       "      <td>South Korea</td>\n",
       "      <td>2020-03-06</td>\n",
       "      <td>6593.0</td>\n",
       "      <td>42.0</td>\n",
       "      <td>135.0</td>\n",
       "    </tr>\n",
       "    <tr>\n",
       "      <th>40</th>\n",
       "      <td>South Korea</td>\n",
       "      <td>2020-03-07</td>\n",
       "      <td>7041.0</td>\n",
       "      <td>44.0</td>\n",
       "      <td>135.0</td>\n",
       "    </tr>\n",
       "    <tr>\n",
       "      <th>41</th>\n",
       "      <td>South Korea</td>\n",
       "      <td>2020-03-08</td>\n",
       "      <td>7314.0</td>\n",
       "      <td>50.0</td>\n",
       "      <td>118.0</td>\n",
       "    </tr>\n",
       "    <tr>\n",
       "      <th>42</th>\n",
       "      <td>South Korea</td>\n",
       "      <td>2020-03-09</td>\n",
       "      <td>7478.0</td>\n",
       "      <td>53.0</td>\n",
       "      <td>118.0</td>\n",
       "    </tr>\n",
       "  </tbody>\n",
       "</table>\n",
       "</div>"
      ],
      "text/plain": [
       "   Country/Region         day  Confirmed  Deaths  Recovered\n",
       "38    South Korea  2020-03-05     6088.0    35.0       41.0\n",
       "39    South Korea  2020-03-06     6593.0    42.0      135.0\n",
       "40    South Korea  2020-03-07     7041.0    44.0      135.0\n",
       "41    South Korea  2020-03-08     7314.0    50.0      118.0\n",
       "42    South Korea  2020-03-09     7478.0    53.0      118.0"
      ]
     },
     "execution_count": 13,
     "metadata": {},
     "output_type": "execute_result"
    }
   ],
   "source": [
    "korea_df = (epidemie_df[epidemie_df['Country/Region'] == 'South Korea']\n",
    "             .groupby(['Country/Region', 'day'])\n",
    "             .agg({'Confirmed': 'sum', 'Deaths': 'sum', 'Recovered': 'sum'})\n",
    "             .reset_index()\n",
    "            )\n",
    "korea_df.tail()"
   ]
  },
  {
   "cell_type": "code",
   "execution_count": 24,
   "metadata": {},
   "outputs": [],
   "source": [
    "korea_df['infected'] = korea_df['Confirmed'].diff()\n",
    "italy_df['infected'] = italy_df['Confirmed'].diff()"
   ]
  },
  {
   "cell_type": "code",
   "execution_count": 33,
   "metadata": {},
   "outputs": [
    {
     "data": {
      "image/png": "[encoded data removed]",
      "text/plain": [
       "<Figure size 864x360 with 1 Axes>"
      ]
     },
     "metadata": {
      "needs_background": "light"
     },
     "output_type": "display_data"
    }
   ],
   "source": [
    "import matplotlib.pyplot as plt\n",
    "%matplotlib inline\n",
    "\n",
    "fig = plt.figure(figsize=(12, 5))\n",
    "plt.plot(korea_df['day'], korea_df['Confirmed'], label='S.Korea confirmed')\n",
    "plt.plot(korea_df['day'], korea_df['infected'], label='S.Korea infected')\n",
    "plt.plot(italy_df['day'], italy_df['Confirmed'], label='Italy confirmed')\n",
    "plt.plot(italy_df['day'], italy_df['infected'], label='Italy infected')\n",
    "plt.grid(True)\n",
    "plt.legend()\n",
    "plt.show()"
   ]
  },
  {
   "cell_type": "code",
   "execution_count": 34,
   "metadata": {},
   "outputs": [],
   "source": [
    "beta, gamma = [0.01, 0.1]\n",
    "\n",
    "def SIR(t, y):\n",
    "    S = y[0]\n",
    "    I = y[1]\n",
    "    R = y[2]\n",
    "    return([-beta*S*I, beta*S*I-gamma*I, gamma*I])"
   ]
  },
  {
   "cell_type": "code",
   "execution_count": 41,
   "metadata": {},
   "outputs": [
    {
     "data": {
      "text/html": [
       "<div>\n",
       "<style scoped>\n",
       "    .dataframe tbody tr th:only-of-type {\n",
       "        vertical-align: middle;\n",
       "    }\n",
       "\n",
       "    .dataframe tbody tr th {\n",
       "        vertical-align: top;\n",
       "    }\n",
       "\n",
       "    .dataframe thead th {\n",
       "        text-align: right;\n",
       "    }\n",
       "</style>\n",
       "<table border=\"1\" class=\"dataframe\">\n",
       "  <thead>\n",
       "    <tr style=\"text-align: right;\">\n",
       "      <th></th>\n",
       "      <th>Country/Region</th>\n",
       "      <th>day</th>\n",
       "      <th>Confirmed</th>\n",
       "      <th>Deaths</th>\n",
       "      <th>Recovered</th>\n",
       "      <th>infected</th>\n",
       "    </tr>\n",
       "  </thead>\n",
       "  <tbody>\n",
       "    <tr>\n",
       "      <th>2</th>\n",
       "      <td>South Korea</td>\n",
       "      <td>2020-01-24</td>\n",
       "      <td>2.0</td>\n",
       "      <td>0.0</td>\n",
       "      <td>0.0</td>\n",
       "      <td>1.0</td>\n",
       "    </tr>\n",
       "    <tr>\n",
       "      <th>3</th>\n",
       "      <td>South Korea</td>\n",
       "      <td>2020-01-25</td>\n",
       "      <td>2.0</td>\n",
       "      <td>0.0</td>\n",
       "      <td>0.0</td>\n",
       "      <td>0.0</td>\n",
       "    </tr>\n",
       "    <tr>\n",
       "      <th>4</th>\n",
       "      <td>South Korea</td>\n",
       "      <td>2020-01-26</td>\n",
       "      <td>3.0</td>\n",
       "      <td>0.0</td>\n",
       "      <td>0.0</td>\n",
       "      <td>1.0</td>\n",
       "    </tr>\n",
       "    <tr>\n",
       "      <th>5</th>\n",
       "      <td>South Korea</td>\n",
       "      <td>2020-01-27</td>\n",
       "      <td>4.0</td>\n",
       "      <td>0.0</td>\n",
       "      <td>0.0</td>\n",
       "      <td>1.0</td>\n",
       "    </tr>\n",
       "    <tr>\n",
       "      <th>6</th>\n",
       "      <td>South Korea</td>\n",
       "      <td>2020-01-28</td>\n",
       "      <td>4.0</td>\n",
       "      <td>0.0</td>\n",
       "      <td>0.0</td>\n",
       "      <td>0.0</td>\n",
       "    </tr>\n",
       "  </tbody>\n",
       "</table>\n",
       "</div>"
      ],
      "text/plain": [
       "  Country/Region         day  Confirmed  Deaths  Recovered  infected\n",
       "2    South Korea  2020-01-24        2.0     0.0        0.0       1.0\n",
       "3    South Korea  2020-01-25        2.0     0.0        0.0       0.0\n",
       "4    South Korea  2020-01-26        3.0     0.0        0.0       1.0\n",
       "5    South Korea  2020-01-27        4.0     0.0        0.0       1.0\n",
       "6    South Korea  2020-01-28        4.0     0.0        0.0       0.0"
      ]
     },
     "execution_count": 41,
     "metadata": {},
     "output_type": "execute_result"
    }
   ],
   "source": [
    "korea_df.loc[2:].head()"
   ]
  },
  {
   "cell_type": "code",
   "execution_count": 42,
   "metadata": {},
   "outputs": [],
   "source": [
    "from scipy.integrate import solve_ivp\n",
    "\n",
    "beta, gamma = [0.01, 0.1]\n",
    "solution_korea = solve_ivp(SIR, [0, 40], [51_470_000, 1, 0], t_eval=np.arange(0, 40, 1))"
   ]
  },
  {
   "cell_type": "code",
   "execution_count": 43,
   "metadata": {},
   "outputs": [
    {
     "data": {
      "text/plain": [
       "  message: 'The solver successfully reached the end of the integration interval.'\n",
       "     nfev: 10617824\n",
       "     njev: 0\n",
       "      nlu: 0\n",
       "      sol: None\n",
       "   status: 0\n",
       "  success: True\n",
       "        t: array([ 0,  1,  2,  3,  4,  5,  6,  7,  8,  9, 10, 11, 12, 13, 14, 15, 16,\n",
       "       17, 18, 19, 20, 21, 22, 23, 24, 25, 26, 27, 28, 29, 30, 31, 32, 33,\n",
       "       34, 35, 36, 37, 38, 39])\n",
       " t_events: None\n",
       "        y: array([[ 5.14700000e+07,  2.04872617e-07, -5.79192642e-07,\n",
       "        -1.02864803e-07,  3.39434814e-07,  1.95092383e-07,\n",
       "         1.56908982e-06, -5.54756490e-07,  8.55639764e-07,\n",
       "        -3.84005541e-07,  1.14854677e-06,  1.04737837e-06,\n",
       "         1.41446345e-07, -3.89979213e-08, -1.31579840e-06,\n",
       "        -1.17991062e-06, -5.32379870e-07,  6.79204480e-07,\n",
       "        -7.21960552e-07, -4.83684927e-07, -5.40636688e-07,\n",
       "         5.00739636e-09, -2.42491836e-07, -4.15623310e-07,\n",
       "         5.38168115e-07, -1.20506229e-08,  4.33030631e-07,\n",
       "        -5.17489767e-07,  6.52063146e-07, -1.73762585e-07,\n",
       "         6.15113307e-07,  8.21540127e-07, -1.00073846e-07,\n",
       "        -4.04728266e-07,  8.07778947e-07, -4.37622079e-08,\n",
       "         1.27296141e-06,  9.18136998e-08,  3.27165295e-07,\n",
       "         3.44848325e-07],\n",
       "       [ 1.00000000e+00,  4.65721435e+07,  4.21402181e+07,\n",
       "         3.81300461e+07,  3.45014925e+07,  3.12182414e+07,\n",
       "         2.82474329e+07,  2.55593343e+07,  2.31270420e+07,\n",
       "         2.09262130e+07,  1.89348205e+07,  1.71329341e+07,\n",
       "         1.55025199e+07,  1.40272601e+07,  1.26923898e+07,\n",
       "         1.14845492e+07,  1.03916498e+07,  9.40275361e+06,\n",
       "         8.50796329e+06,  7.69832354e+06,  6.96573120e+06,\n",
       "         6.30285423e+06,  5.70305835e+06,  5.16034059e+06,\n",
       "         4.66926926e+06,  4.22492954e+06,  3.82287433e+06,\n",
       "         3.45907974e+06,  3.12990478e+06,  2.83205496e+06,\n",
       "         2.56254930e+06,  2.31869049e+06,  2.09803792e+06,\n",
       "         1.89838321e+06,  1.71772816e+06,  1.55426472e+06,\n",
       "         1.40635687e+06,  1.27252432e+06,  1.15142762e+06,\n",
       "         1.04185480e+06],\n",
       "       [ 0.00000000e+00,  4.89785751e+06,  9.32978293e+06,\n",
       "         1.33399549e+07,  1.69685085e+07,  2.02517596e+07,\n",
       "         2.32225681e+07,  2.59106667e+07,  2.83429590e+07,\n",
       "         3.05437880e+07,  3.25351805e+07,  3.43370669e+07,\n",
       "         3.59674811e+07,  3.74427409e+07,  3.87776112e+07,\n",
       "         3.99854518e+07,  4.10783512e+07,  4.20672474e+07,\n",
       "         4.29620377e+07,  4.37716775e+07,  4.45042698e+07,\n",
       "         4.51671468e+07,  4.57669427e+07,  4.63096604e+07,\n",
       "         4.68007317e+07,  4.72450715e+07,  4.76471267e+07,\n",
       "         4.80109213e+07,  4.83400962e+07,  4.86379460e+07,\n",
       "         4.89074517e+07,  4.91513105e+07,  4.93719631e+07,\n",
       "         4.95716178e+07,  4.97522728e+07,  4.99157363e+07,\n",
       "         5.00636441e+07,  5.01974767e+07,  5.03185734e+07,\n",
       "         5.04281462e+07]])\n",
       " y_events: None"
      ]
     },
     "execution_count": 43,
     "metadata": {},
     "output_type": "execute_result"
    }
   ],
   "source": [
    "solution_korea"
   ]
  },
  {
   "cell_type": "code",
   "execution_count": 71,
   "metadata": {},
   "outputs": [],
   "source": [
    "def plot_epidemia(solution, infected, susceptible=False):\n",
    "    fig = plt.figure(figsize=(12, 5))\n",
    "    if susceptible:\n",
    "        plt.plot(solution.t, solution.y[0])\n",
    "    plt.plot(solution.t, solution.y[1])\n",
    "    plt.plot(solution.t, solution.y[2])\n",
    "    plt.plot(infected.reset_index(drop=True).index, infected, \"k*:\")\n",
    "    plt.grid(\"True\")\n",
    "    if susceptible:\n",
    "        plt.legend([\"Susceptible\", \"Infected\", \"Recovered\", \"Original Data\"])\n",
    "    else:\n",
    "        plt.legend([\"Infected\", \"Recovered\", \"Original Data\"])\n",
    "    plt.show()"
   ]
  },
  {
   "cell_type": "code",
   "execution_count": 54,
   "metadata": {},
   "outputs": [
    {
     "data": {
      "image/png": "[encoded data removed]",
      "text/plain": [
       "<Figure size 864x360 with 1 Axes>"
      ]
     },
     "metadata": {
      "needs_background": "light"
     },
     "output_type": "display_data"
    }
   ],
   "source": [
    "plot_epidemia(solution_korea, korea_df.loc[2:]['infected'])"
   ]
  },
  {
   "cell_type": "markdown",
   "metadata": {},
   "source": [
    "### Approximation"
   ]
  },
  {
   "cell_type": "code",
   "execution_count": 55,
   "metadata": {},
   "outputs": [
    {
     "data": {
      "text/plain": [
       "851.0"
      ]
     },
     "execution_count": 55,
     "metadata": {},
     "output_type": "execute_result"
    }
   ],
   "source": [
    "korea_df['infected'].max() "
   ]
  },
  {
   "cell_type": "code",
   "execution_count": 57,
   "metadata": {},
   "outputs": [
    {
     "data": {
      "text/plain": [
       "252.0"
      ]
     },
     "execution_count": 57,
     "metadata": {},
     "output_type": "execute_result"
    }
   ],
   "source": [
    "korea_df['infected'].diff().max()"
   ]
  },
  {
   "cell_type": "code",
   "execution_count": 66,
   "metadata": {},
   "outputs": [
    {
     "data": {
      "text/plain": [
       "0.17870945831971552"
      ]
     },
     "execution_count": 66,
     "metadata": {},
     "output_type": "execute_result"
    }
   ],
   "source": [
    "(korea_df['Recovered'].diff().loc[korea_df['infected'] != 0] / korea_df.loc[korea_df['infected'] != 0]['infected']).mean()"
   ]
  },
  {
   "cell_type": "code",
   "execution_count": 81,
   "metadata": {},
   "outputs": [],
   "source": [
    "beta, gamma = [0.001, 0.1]\n",
    "solution_korea = solve_ivp(SIR, [0, 40], [51_470_000, 1, 0], t_eval=np.arange(0, 41, 1))"
   ]
  },
  {
   "cell_type": "code",
   "execution_count": 82,
   "metadata": {},
   "outputs": [
    {
     "data": {
      "image/png": "[encoded data removed]",
      "text/plain": [
       "<Figure size 864x360 with 1 Axes>"
      ]
     },
     "metadata": {
      "needs_background": "light"
     },
     "output_type": "display_data"
    }
   ],
   "source": [
    "plot_epidemia(solution_korea, korea_df.loc[2:]['infected'])"
   ]
  },
  {
   "cell_type": "code",
   "execution_count": 89,
   "metadata": {},
   "outputs": [],
   "source": [
    "def sumsq_error(parameters):\n",
    "    beta, gamma = parameters\n",
    "    \n",
    "    def SIR(t, y):\n",
    "        S = y[0]\n",
    "        I = y[1]\n",
    "        R = y[2]\n",
    "        return([-beta*S*I, beta*S*I-gamma*I, gamma*I])\n",
    "\n",
    "    solution = solve_ivp(SIR, [0, nb_steps-1], [total_population, 1, 0], t_eval=np.arange(0, nb_steps, 1))\n",
    "    \n",
    "    return(sum((solution.y[1]-infected_population)**2))"
   ]
  },
  {
   "cell_type": "code",
   "execution_count": 93,
   "metadata": {},
   "outputs": [],
   "source": [
    "total_population = 51_470_000\n",
    "infected_population = korea_df.loc[2:]['infected']\n",
    "nb_steps = len(infected_population)"
   ]
  },
  {
   "cell_type": "code",
   "execution_count": 101,
   "metadata": {},
   "outputs": [
    {
     "name": "stdout",
     "output_type": "stream",
     "text": [
      "Wall time: 11min 39s\n"
     ]
    },
    {
     "data": {
      "text/plain": [
       "array([ 0.06321101, 33.06340503])"
      ]
     },
     "execution_count": 101,
     "metadata": {},
     "output_type": "execute_result"
    }
   ],
   "source": [
    "%%time\n",
    "from scipy.optimize import minimize\n",
    "\n",
    "msol = minimize(sumsq_error, [0.001, 0.1], method='Nelder-Mead')\n",
    "msol.x"
   ]
  },
  {
   "cell_type": "code",
   "execution_count": 140,
   "metadata": {},
   "outputs": [],
   "source": [
    "# Djiby\n",
    "beta_optimal = 5.67e-3\n",
    "gamma_optimal = 24.7\n",
    "\n",
    "# PC de la fac\n",
    "beta_optimal = 0.06321101\n",
    "gamma_optimal = 33.06340503\n",
    "\n",
    "# Approximation Excel\n",
    "beta_optimal = 1.5485e-8\n",
    "gamma_optimal = 0.1839"
   ]
  },
  {
   "cell_type": "code",
   "execution_count": 141,
   "metadata": {},
   "outputs": [],
   "source": [
    "beta = beta_optimal\n",
    "gamma = gamma_optimal\n",
    "\n",
    "def SIR(t, y):\n",
    "    S = y[0]\n",
    "    I = y[1]\n",
    "    R = y[2]\n",
    "    return([-beta*S*I, beta*S*I-gamma*I, gamma*I])\n",
    "\n",
    "solution_korea_optimal = solve_ivp(SIR, [0, 40], [51_470_000, 1, 0], t_eval=np.arange(0, 40, 1))"
   ]
  },
  {
   "cell_type": "code",
   "execution_count": 142,
   "metadata": {},
   "outputs": [
    {
     "data": {
      "text/plain": [
       "  message: 'The solver successfully reached the end of the integration interval.'\n",
       "     nfev: 116\n",
       "     njev: 0\n",
       "      nlu: 0\n",
       "      sol: None\n",
       "   status: 0\n",
       "  success: True\n",
       "        t: array([ 0,  1,  2,  3,  4,  5,  6,  7,  8,  9, 10, 11, 12, 13, 14, 15, 16,\n",
       "       17, 18, 19, 20, 21, 22, 23, 24, 25, 26, 27, 28, 29, 30, 31, 32, 33,\n",
       "       34, 35, 36, 37, 38, 39])\n",
       " t_events: None\n",
       "        y: array([[5.14700000e+07, 5.14699989e+07, 5.14699969e+07, 5.14699931e+07,\n",
       "        5.14699862e+07, 5.14699734e+07, 5.14699499e+07, 5.14699063e+07,\n",
       "        5.14698260e+07, 5.14696776e+07, 5.14694036e+07, 5.14688987e+07,\n",
       "        5.14679639e+07, 5.14662448e+07, 5.14630615e+07, 5.14571948e+07,\n",
       "        5.14463755e+07, 5.14263681e+07, 5.13896182e+07, 5.13217037e+07,\n",
       "        5.11971302e+07, 5.09688715e+07, 5.05534881e+07, 4.98073122e+07,\n",
       "        4.84918121e+07, 4.62716331e+07, 4.27086082e+07, 3.75595847e+07,\n",
       "        3.10576837e+07, 2.40811099e+07, 1.76794197e+07, 1.26313711e+07,\n",
       "        8.96791884e+06, 6.47514774e+06, 4.79864525e+06, 3.66186891e+06,\n",
       "        2.85716637e+06, 2.30175919e+06, 1.92400706e+06, 1.65020868e+06],\n",
       "       [1.00000000e+00, 1.84621486e+00, 3.40810622e+00, 6.29315908e+00,\n",
       "        1.16134569e+01, 2.14506908e+01, 3.95669770e+01, 7.30989360e+01,\n",
       "        1.34841565e+02, 2.49046947e+02, 4.59775199e+02, 8.48180937e+02,\n",
       "        1.56727369e+03, 2.88967729e+03, 5.33841640e+03, 9.85116699e+03,\n",
       "        1.81731987e+04, 3.35609331e+04, 6.18213520e+04, 1.14030753e+05,\n",
       "        2.09737613e+05, 3.84940543e+05, 7.03056459e+05, 1.27275254e+06,\n",
       "        2.27042857e+06, 3.93309261e+06, 6.54734833e+06, 1.01748274e+07,\n",
       "        1.44219121e+07, 1.83694139e+07, 2.11117985e+07, 2.21543927e+07,\n",
       "        2.17620222e+07, 2.03710174e+07, 1.84745113e+07, 1.64062764e+07,\n",
       "        1.43771341e+07, 1.24636528e+07, 1.07134947e+07, 9.16260322e+06],\n",
       "       [0.00000000e+00, 2.53817694e-01, 7.22298804e-01, 1.58765533e+00,\n",
       "        3.18345103e+00, 6.13407911e+00, 1.15679689e+01, 2.16257221e+01,\n",
       "        4.01451613e+01, 7.44006766e+01, 1.37608282e+02, 2.54110952e+02,\n",
       "        4.69808107e+02, 8.66484546e+02, 1.60106959e+03, 2.95499975e+03,\n",
       "        5.45226278e+03, 1.00719375e+04, 1.85614271e+04, 3.42665596e+04,\n",
       "        6.31332114e+04, 1.16188926e+05, 2.13456480e+05, 3.89936268e+05,\n",
       "        7.07760282e+05, 1.26527531e+06, 2.21404443e+06, 3.73558895e+06,\n",
       "        5.99040528e+06, 9.01947715e+06, 1.26787828e+07, 1.66842372e+07,\n",
       "        2.07400599e+07, 2.46238359e+07, 2.81968445e+07, 3.14018557e+07,\n",
       "        3.42357005e+07, 3.67045890e+07, 3.88324992e+07, 4.06571891e+07]])\n",
       " y_events: None"
      ]
     },
     "execution_count": 142,
     "metadata": {},
     "output_type": "execute_result"
    }
   ],
   "source": [
    "solution_korea_optimal"
   ]
  },
  {
   "cell_type": "code",
   "execution_count": 136,
   "metadata": {},
   "outputs": [
    {
     "data": {
      "image/png": "[encoded data removed]",
      "text/plain": [
       "<Figure size 864x360 with 1 Axes>"
      ]
     },
     "metadata": {
      "needs_background": "light"
     },
     "output_type": "display_data"
    }
   ],
   "source": [
    "plot_epidemia(solution_korea_optimal, korea_df.loc[2:]['infected'])"
   ]
  },
  {
   "cell_type": "code",
   "execution_count": 109,
   "metadata": {},
   "outputs": [
    {
     "data": {
      "image/png": "[encoded data removed]",
      "text/plain": [
       "<Figure size 864x360 with 1 Axes>"
      ]
     },
     "metadata": {
      "needs_background": "light"
     },
     "output_type": "display_data"
    }
   ],
   "source": [
    "fig = plt.figure(figsize=(12, 5))\n",
    "plt.plot(solution_korea_optimal.t, solution_korea_optimal.y[1])\n",
    "plt.plot(korea_df.loc[2:]['infected'].reset_index(drop=True).index, korea_df.loc[2:]['infected'], \"k*:\")\n",
    "plt.grid(\"True\")\n",
    "plt.legend([\"Infected\", \"Original Data\"])\n",
    "plt.show()"
   ]
  },
  {
   "cell_type": "code",
   "execution_count": 120,
   "metadata": {},
   "outputs": [
    {
     "data": {
      "text/html": [
       "<div>\n",
       "<style scoped>\n",
       "    .dataframe tbody tr th:only-of-type {\n",
       "        vertical-align: middle;\n",
       "    }\n",
       "\n",
       "    .dataframe tbody tr th {\n",
       "        vertical-align: top;\n",
       "    }\n",
       "\n",
       "    .dataframe thead th {\n",
       "        text-align: right;\n",
       "    }\n",
       "</style>\n",
       "<table border=\"1\" class=\"dataframe\">\n",
       "  <thead>\n",
       "    <tr style=\"text-align: right;\">\n",
       "      <th></th>\n",
       "      <th>Country/Region</th>\n",
       "      <th>day</th>\n",
       "      <th>Confirmed</th>\n",
       "      <th>Deaths</th>\n",
       "      <th>Recovered</th>\n",
       "    </tr>\n",
       "  </thead>\n",
       "  <tbody>\n",
       "    <tr>\n",
       "      <th>44</th>\n",
       "      <td>Mainland China</td>\n",
       "      <td>2020-03-06</td>\n",
       "      <td>79771.0</td>\n",
       "      <td>3029.0</td>\n",
       "      <td>53172.0</td>\n",
       "    </tr>\n",
       "    <tr>\n",
       "      <th>45</th>\n",
       "      <td>Mainland China</td>\n",
       "      <td>2020-03-07</td>\n",
       "      <td>78619.0</td>\n",
       "      <td>3051.0</td>\n",
       "      <td>53511.0</td>\n",
       "    </tr>\n",
       "    <tr>\n",
       "      <th>46</th>\n",
       "      <td>Mainland China</td>\n",
       "      <td>2020-03-08</td>\n",
       "      <td>79455.0</td>\n",
       "      <td>3084.0</td>\n",
       "      <td>56114.0</td>\n",
       "    </tr>\n",
       "    <tr>\n",
       "      <th>47</th>\n",
       "      <td>Mainland China</td>\n",
       "      <td>2020-03-09</td>\n",
       "      <td>76902.0</td>\n",
       "      <td>3071.0</td>\n",
       "      <td>55004.0</td>\n",
       "    </tr>\n",
       "    <tr>\n",
       "      <th>48</th>\n",
       "      <td>Mainland China</td>\n",
       "      <td>2020-03-10</td>\n",
       "      <td>77201.0</td>\n",
       "      <td>3088.0</td>\n",
       "      <td>56620.0</td>\n",
       "    </tr>\n",
       "  </tbody>\n",
       "</table>\n",
       "</div>"
      ],
      "text/plain": [
       "    Country/Region         day  Confirmed  Deaths  Recovered\n",
       "44  Mainland China  2020-03-06    79771.0  3029.0    53172.0\n",
       "45  Mainland China  2020-03-07    78619.0  3051.0    53511.0\n",
       "46  Mainland China  2020-03-08    79455.0  3084.0    56114.0\n",
       "47  Mainland China  2020-03-09    76902.0  3071.0    55004.0\n",
       "48  Mainland China  2020-03-10    77201.0  3088.0    56620.0"
      ]
     },
     "execution_count": 120,
     "metadata": {},
     "output_type": "execute_result"
    }
   ],
   "source": [
    "china_df = epidemie_df.get_country('Mainland China')[:49]\n",
    "china_df.tail()"
   ]
  },
  {
   "cell_type": "code",
   "execution_count": 122,
   "metadata": {},
   "outputs": [
    {
     "data": {
      "image/png": "[encoded data removed]",
      "text/plain": [
       "<Figure size 864x360 with 1 Axes>"
      ]
     },
     "metadata": {
      "needs_background": "light"
     },
     "output_type": "display_data"
    }
   ],
   "source": [
    "china_df.set_index('day').plot.line(figsize=(12, 5));"
   ]
  },
  {
   "cell_type": "code",
   "execution_count": null,
   "metadata": {},
   "outputs": [],
   "source": [
    "beta, gamma = [0.001, 0.1]\n",
    "china_df['infected'] = china_df['Confirmed'].diff()\n",
    "nb_steps = china_df.shape[0]\n",
    "solution_china = solve_ivp(SIR, [0, nb_steps-1], [1_350_000_000, 1, 0], t_eval=np.arange(0, nb_steps, 1))"
   ]
  },
  {
   "cell_type": "code",
   "execution_count": null,
   "metadata": {},
   "outputs": [],
   "source": [
    "fig = plt.figure(figsize=(12, 5))\n",
    "plt.plot(solution_china.t, solution_china.y[1])\n",
    "plt.plot(china_df['infected'].reset_index(drop=True).index, china_df['infected'], \"k*:\")\n",
    "plt.title('China')\n",
    "plt.grid(\"True\")\n",
    "plt.legend([\"Infected\", \"Original Data\"])\n",
    "plt.show()"
   ]
  },
  {
   "cell_type": "code",
   "execution_count": 128,
   "metadata": {},
   "outputs": [],
   "source": [
    "korea_df.to_clipboard()"
   ]
  },
  {
   "cell_type": "code",
   "execution_count": null,
   "metadata": {},
   "outputs": [],
   "source": []
  }
 ],
 "metadata": {
  "kernelspec": {
   "display_name": "Projet Corona (Python)",
   "language": "python",
   "name": "corona"
  },
  "language_info": {
   "codemirror_mode": {
    "name": "ipython",
    "version": 3
   },
   "file_extension": ".py",
   "mimetype": "text/x-python",
   "name": "python",
   "nbconvert_exporter": "python",
   "pygments_lexer": "ipython3",
   "version": "3.8.1"
  }
 },
 "nbformat": 4,
 "nbformat_minor": 2
}
